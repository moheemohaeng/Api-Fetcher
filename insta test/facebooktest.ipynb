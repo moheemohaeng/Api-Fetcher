{
 "cells": [
  {
   "cell_type": "code",
   "execution_count": 1,
   "metadata": {},
   "outputs": [],
   "source": [
    "import facebook\n",
    "import json\n",
    "from pymongo import MongoClient\n",
    "from pathlib import Path\n",
    "from requests import Session\n",
    "from bson import json_util\n",
    "import os"
   ]
  },
  {
   "cell_type": "code",
   "execution_count": 82,
   "metadata": {},
   "outputs": [],
   "source": [
    "token = 'EAAFlnBk7ST0BAHOL6d3ZCsyk1Sl9iZCqWO2xaZBpTIVAbMIq7WIBku7ZBrJ40C3SmVVPgUvpqFoiF00rFWuTJmH68MtDKIlZAetMgoakf6t1112336eWU6jPTBKCyFUxvUZCHNOmVt4vU1XPZCjDww3Ew3dSuagJcPoM2tv7VNTvqrLALefgXZA5s07hhLWZAiW5ZAmDMH7aiFjZB3MtZBQJCUOZAlzx9RjvYOrog8dhmEDUroJNmxr6pUYbIT4tenguGmK0ZD'"
   ]
  },
  {
   "cell_type": "code",
   "execution_count": 83,
   "metadata": {},
   "outputs": [],
   "source": [
    "graph = facebook.GraphAPI(access_token=token, version='3.1')"
   ]
  },
  {
   "cell_type": "code",
   "execution_count": 148,
   "metadata": {},
   "outputs": [
    {
     "ename": "GraphAPIError",
     "evalue": "(#4) Application request limit reached",
     "output_type": "error",
     "traceback": [
      "\u001b[1;31m---------------------------------------------------------------------------\u001b[0m",
      "\u001b[1;31mGraphAPIError\u001b[0m                             Traceback (most recent call last)",
      "\u001b[1;32mc:\\Users\\user\\Desktop\\insta test\\facebooktest.ipynb Cell 4'\u001b[0m in \u001b[0;36m<cell line: 1>\u001b[1;34m()\u001b[0m\n\u001b[0;32m      <a href='vscode-notebook-cell:/c%3A/Users/user/Desktop/insta%20test/facebooktest.ipynb#ch0000003?line=0'>1</a>\u001b[0m \u001b[39mfor\u001b[39;00m i \u001b[39min\u001b[39;00m \u001b[39mrange\u001b[39m(\u001b[39m20\u001b[39m):\n\u001b[1;32m----> <a href='vscode-notebook-cell:/c%3A/Users/user/Desktop/insta%20test/facebooktest.ipynb#ch0000003?line=1'>2</a>\u001b[0m     friends \u001b[39m=\u001b[39m graph\u001b[39m.\u001b[39;49mget_connections(\u001b[39mid\u001b[39;49m\u001b[39m=\u001b[39;49m\u001b[39m'\u001b[39;49m\u001b[39mme\u001b[39;49m\u001b[39m'\u001b[39;49m, connection_name\u001b[39m=\u001b[39;49m\u001b[39m'\u001b[39;49m\u001b[39mfriends\u001b[39;49m\u001b[39m'\u001b[39;49m)\n",
      "File \u001b[1;32m~\\AppData\\Local\\Programs\\Python\\Python310\\lib\\site-packages\\facebook\\__init__.py:149\u001b[0m, in \u001b[0;36mGraphAPI.get_connections\u001b[1;34m(self, id, connection_name, **args)\u001b[0m\n\u001b[0;32m    <a href='file:///c%3A/Users/user/AppData/Local/Programs/Python/Python310/lib/site-packages/facebook/__init__.py?line=146'>147</a>\u001b[0m \u001b[39mdef\u001b[39;00m \u001b[39mget_connections\u001b[39m(\u001b[39mself\u001b[39m, \u001b[39mid\u001b[39m, connection_name, \u001b[39m*\u001b[39m\u001b[39m*\u001b[39margs):\n\u001b[0;32m    <a href='file:///c%3A/Users/user/AppData/Local/Programs/Python/Python310/lib/site-packages/facebook/__init__.py?line=147'>148</a>\u001b[0m     \u001b[39m\"\"\"Fetches the connections for given object.\"\"\"\u001b[39;00m\n\u001b[1;32m--> <a href='file:///c%3A/Users/user/AppData/Local/Programs/Python/Python310/lib/site-packages/facebook/__init__.py?line=148'>149</a>\u001b[0m     \u001b[39mreturn\u001b[39;00m \u001b[39mself\u001b[39;49m\u001b[39m.\u001b[39;49mrequest(\n\u001b[0;32m    <a href='file:///c%3A/Users/user/AppData/Local/Programs/Python/Python310/lib/site-packages/facebook/__init__.py?line=149'>150</a>\u001b[0m         \u001b[39m\"\u001b[39;49m\u001b[39m{0}\u001b[39;49;00m\u001b[39m/\u001b[39;49m\u001b[39m{1}\u001b[39;49;00m\u001b[39m/\u001b[39;49m\u001b[39m{2}\u001b[39;49;00m\u001b[39m\"\u001b[39;49m\u001b[39m.\u001b[39;49mformat(\u001b[39mself\u001b[39;49m\u001b[39m.\u001b[39;49mversion, \u001b[39mid\u001b[39;49m, connection_name), args\n\u001b[0;32m    <a href='file:///c%3A/Users/user/AppData/Local/Programs/Python/Python310/lib/site-packages/facebook/__init__.py?line=150'>151</a>\u001b[0m     )\n",
      "File \u001b[1;32m~\\AppData\\Local\\Programs\\Python\\Python310\\lib\\site-packages\\facebook\\__init__.py:313\u001b[0m, in \u001b[0;36mGraphAPI.request\u001b[1;34m(self, path, args, post_args, files, method)\u001b[0m\n\u001b[0;32m    <a href='file:///c%3A/Users/user/AppData/Local/Programs/Python/Python310/lib/site-packages/facebook/__init__.py?line=309'>310</a>\u001b[0m     \u001b[39mraise\u001b[39;00m GraphAPIError(\u001b[39m\"\u001b[39m\u001b[39mMaintype was not text, image, or querystring\u001b[39m\u001b[39m\"\u001b[39m)\n\u001b[0;32m    <a href='file:///c%3A/Users/user/AppData/Local/Programs/Python/Python310/lib/site-packages/facebook/__init__.py?line=311'>312</a>\u001b[0m \u001b[39mif\u001b[39;00m result \u001b[39mand\u001b[39;00m \u001b[39misinstance\u001b[39m(result, \u001b[39mdict\u001b[39m) \u001b[39mand\u001b[39;00m result\u001b[39m.\u001b[39mget(\u001b[39m\"\u001b[39m\u001b[39merror\u001b[39m\u001b[39m\"\u001b[39m):\n\u001b[1;32m--> <a href='file:///c%3A/Users/user/AppData/Local/Programs/Python/Python310/lib/site-packages/facebook/__init__.py?line=312'>313</a>\u001b[0m     \u001b[39mraise\u001b[39;00m GraphAPIError(result)\n\u001b[0;32m    <a href='file:///c%3A/Users/user/AppData/Local/Programs/Python/Python310/lib/site-packages/facebook/__init__.py?line=313'>314</a>\u001b[0m \u001b[39mreturn\u001b[39;00m result\n",
      "\u001b[1;31mGraphAPIError\u001b[0m: (#4) Application request limit reached"
     ]
    }
   ],
   "source": [
    "for i in range(20):\n",
    "    friends = graph.get_connectioons(id='me', connection_name='friends')"
   ]
  },
  {
   "cell_type": "code",
   "execution_count": 99,
   "metadata": {},
   "outputs": [
    {
     "name": "stdout",
     "output_type": "stream",
     "text": [
      "{'data': [], 'summary': {'total_count': 1}}\n"
     ]
    }
   ],
   "source": [
    "print(friends)"
   ]
  },
  {
   "cell_type": "code",
   "execution_count": 100,
   "metadata": {},
   "outputs": [
    {
     "ename": "GraphAPIError",
     "evalue": "(#10) This endpoint requires the 'pages_read_engagement' permission or the 'Page Public Content Access' feature. Refer to https://developers.facebook.com/docs/apps/review/login-permissions#manage-pages and https://developers.facebook.com/docs/apps/review/feature#reference-PAGES_ACCESS for details.",
     "output_type": "error",
     "traceback": [
      "\u001b[1;31m---------------------------------------------------------------------------\u001b[0m",
      "\u001b[1;31mGraphAPIError\u001b[0m                             Traceback (most recent call last)",
      "\u001b[1;32mc:\\Users\\user\\Desktop\\insta test\\facebooktest.ipynb Cell 6'\u001b[0m in \u001b[0;36m<cell line: 1>\u001b[1;34m()\u001b[0m\n\u001b[1;32m----> <a href='vscode-notebook-cell:/c%3A/Users/user/Desktop/insta%20test/facebooktest.ipynb#ch0000005?line=0'>1</a>\u001b[0m post \u001b[39m=\u001b[39m graph\u001b[39m.\u001b[39;49mget_object(\u001b[39mid\u001b[39;49m\u001b[39m=\u001b[39;49m\u001b[39m651794712897523\u001b[39;49m, fields \u001b[39m=\u001b[39;49m \u001b[39m'\u001b[39;49m\u001b[39mmessage\u001b[39;49m\u001b[39m'\u001b[39;49m)\n",
      "File \u001b[1;32m~\\AppData\\Local\\Programs\\Python\\Python310\\lib\\site-packages\\facebook\\__init__.py:126\u001b[0m, in \u001b[0;36mGraphAPI.get_object\u001b[1;34m(self, id, **args)\u001b[0m\n\u001b[0;32m    <a href='file:///c%3A/Users/user/AppData/Local/Programs/Python/Python310/lib/site-packages/facebook/__init__.py?line=123'>124</a>\u001b[0m \u001b[39mdef\u001b[39;00m \u001b[39mget_object\u001b[39m(\u001b[39mself\u001b[39m, \u001b[39mid\u001b[39m, \u001b[39m*\u001b[39m\u001b[39m*\u001b[39margs):\n\u001b[0;32m    <a href='file:///c%3A/Users/user/AppData/Local/Programs/Python/Python310/lib/site-packages/facebook/__init__.py?line=124'>125</a>\u001b[0m     \u001b[39m\"\"\"Fetches the given object from the graph.\"\"\"\u001b[39;00m\n\u001b[1;32m--> <a href='file:///c%3A/Users/user/AppData/Local/Programs/Python/Python310/lib/site-packages/facebook/__init__.py?line=125'>126</a>\u001b[0m     \u001b[39mreturn\u001b[39;00m \u001b[39mself\u001b[39;49m\u001b[39m.\u001b[39;49mrequest(\u001b[39m\"\u001b[39;49m\u001b[39m{0}\u001b[39;49;00m\u001b[39m/\u001b[39;49m\u001b[39m{1}\u001b[39;49;00m\u001b[39m\"\u001b[39;49m\u001b[39m.\u001b[39;49mformat(\u001b[39mself\u001b[39;49m\u001b[39m.\u001b[39;49mversion, \u001b[39mid\u001b[39;49m), args)\n",
      "File \u001b[1;32m~\\AppData\\Local\\Programs\\Python\\Python310\\lib\\site-packages\\facebook\\__init__.py:313\u001b[0m, in \u001b[0;36mGraphAPI.request\u001b[1;34m(self, path, args, post_args, files, method)\u001b[0m\n\u001b[0;32m    <a href='file:///c%3A/Users/user/AppData/Local/Programs/Python/Python310/lib/site-packages/facebook/__init__.py?line=309'>310</a>\u001b[0m     \u001b[39mraise\u001b[39;00m GraphAPIError(\u001b[39m\"\u001b[39m\u001b[39mMaintype was not text, image, or querystring\u001b[39m\u001b[39m\"\u001b[39m)\n\u001b[0;32m    <a href='file:///c%3A/Users/user/AppData/Local/Programs/Python/Python310/lib/site-packages/facebook/__init__.py?line=311'>312</a>\u001b[0m \u001b[39mif\u001b[39;00m result \u001b[39mand\u001b[39;00m \u001b[39misinstance\u001b[39m(result, \u001b[39mdict\u001b[39m) \u001b[39mand\u001b[39;00m result\u001b[39m.\u001b[39mget(\u001b[39m\"\u001b[39m\u001b[39merror\u001b[39m\u001b[39m\"\u001b[39m):\n\u001b[1;32m--> <a href='file:///c%3A/Users/user/AppData/Local/Programs/Python/Python310/lib/site-packages/facebook/__init__.py?line=312'>313</a>\u001b[0m     \u001b[39mraise\u001b[39;00m GraphAPIError(result)\n\u001b[0;32m    <a href='file:///c%3A/Users/user/AppData/Local/Programs/Python/Python310/lib/site-packages/facebook/__init__.py?line=313'>314</a>\u001b[0m \u001b[39mreturn\u001b[39;00m result\n",
      "\u001b[1;31mGraphAPIError\u001b[0m: (#10) This endpoint requires the 'pages_read_engagement' permission or the 'Page Public Content Access' feature. Refer to https://developers.facebook.com/docs/apps/review/login-permissions#manage-pages and https://developers.facebook.com/docs/apps/review/feature#reference-PAGES_ACCESS for details."
     ]
    }
   ],
   "source": [
    "post = graph.get_object(id=651794712897523, fields = 'message')"
   ]
  },
  {
   "cell_type": "code",
   "execution_count": 78,
   "metadata": {},
   "outputs": [
    {
     "ename": "GraphAPIError",
     "evalue": "(#12) Place Search API is deprecated for third parties effective v8.0 is deprecated",
     "output_type": "error",
     "traceback": [
      "\u001b[1;31m---------------------------------------------------------------------------\u001b[0m",
      "\u001b[1;31mGraphAPIError\u001b[0m                             Traceback (most recent call last)",
      "\u001b[1;32mc:\\Users\\user\\Desktop\\insta test\\facebooktest.ipynb Cell 6'\u001b[0m in \u001b[0;36m<cell line: 1>\u001b[1;34m()\u001b[0m\n\u001b[1;32m----> <a href='vscode-notebook-cell:/c%3A/Users/user/Desktop/insta%20test/facebooktest.ipynb#ch0000001?line=0'>1</a>\u001b[0m places \u001b[39m=\u001b[39m graph\u001b[39m.\u001b[39;49msearch(\u001b[39mtype\u001b[39;49m\u001b[39m=\u001b[39;49m\u001b[39m'\u001b[39;49m\u001b[39mplace\u001b[39;49m\u001b[39m'\u001b[39;49m,\n\u001b[0;32m      <a href='vscode-notebook-cell:/c%3A/Users/user/Desktop/insta%20test/facebooktest.ipynb#ch0000001?line=1'>2</a>\u001b[0m                       center\u001b[39m=\u001b[39;49m\u001b[39m'\u001b[39;49m\u001b[39m37.4845306,-122.1498183\u001b[39;49m\u001b[39m'\u001b[39;49m,\n\u001b[0;32m      <a href='vscode-notebook-cell:/c%3A/Users/user/Desktop/insta%20test/facebooktest.ipynb#ch0000001?line=2'>3</a>\u001b[0m                       fields\u001b[39m=\u001b[39;49m\u001b[39m'\u001b[39;49m\u001b[39mname,location\u001b[39;49m\u001b[39m'\u001b[39;49m)\n\u001b[0;32m      <a href='vscode-notebook-cell:/c%3A/Users/user/Desktop/insta%20test/facebooktest.ipynb#ch0000001?line=4'>5</a>\u001b[0m \u001b[39m# Each given id maps to an object the contains the requested fields.\u001b[39;00m\n\u001b[0;32m      <a href='vscode-notebook-cell:/c%3A/Users/user/Desktop/insta%20test/facebooktest.ipynb#ch0000001?line=5'>6</a>\u001b[0m \u001b[39mfor\u001b[39;00m place \u001b[39min\u001b[39;00m places[\u001b[39m'\u001b[39m\u001b[39mdata\u001b[39m\u001b[39m'\u001b[39m]:\n",
      "File \u001b[1;32m~\\AppData\\Local\\Programs\\Python\\Python310\\lib\\site-packages\\facebook\\__init__.py:145\u001b[0m, in \u001b[0;36mGraphAPI.search\u001b[1;34m(self, type, **args)\u001b[0m\n\u001b[0;32m    <a href='file:///c%3A/Users/user/AppData/Local/Programs/Python/Python310/lib/site-packages/facebook/__init__.py?line=139'>140</a>\u001b[0m     \u001b[39mraise\u001b[39;00m GraphAPIError(\n\u001b[0;32m    <a href='file:///c%3A/Users/user/AppData/Local/Programs/Python/Python310/lib/site-packages/facebook/__init__.py?line=140'>141</a>\u001b[0m         \u001b[39m\"\u001b[39m\u001b[39mValid types are: \u001b[39m\u001b[39m%s\u001b[39;00m\u001b[39m\"\u001b[39m \u001b[39m%\u001b[39m \u001b[39m\"\u001b[39m\u001b[39m, \u001b[39m\u001b[39m\"\u001b[39m\u001b[39m.\u001b[39mjoin(VALID_SEARCH_TYPES)\n\u001b[0;32m    <a href='file:///c%3A/Users/user/AppData/Local/Programs/Python/Python310/lib/site-packages/facebook/__init__.py?line=141'>142</a>\u001b[0m     )\n\u001b[0;32m    <a href='file:///c%3A/Users/user/AppData/Local/Programs/Python/Python310/lib/site-packages/facebook/__init__.py?line=143'>144</a>\u001b[0m args[\u001b[39m\"\u001b[39m\u001b[39mtype\u001b[39m\u001b[39m\"\u001b[39m] \u001b[39m=\u001b[39m \u001b[39mtype\u001b[39m\n\u001b[1;32m--> <a href='file:///c%3A/Users/user/AppData/Local/Programs/Python/Python310/lib/site-packages/facebook/__init__.py?line=144'>145</a>\u001b[0m \u001b[39mreturn\u001b[39;00m \u001b[39mself\u001b[39;49m\u001b[39m.\u001b[39;49mrequest(\u001b[39mself\u001b[39;49m\u001b[39m.\u001b[39;49mversion \u001b[39m+\u001b[39;49m \u001b[39m\"\u001b[39;49m\u001b[39m/search/\u001b[39;49m\u001b[39m\"\u001b[39;49m, args)\n",
      "File \u001b[1;32m~\\AppData\\Local\\Programs\\Python\\Python310\\lib\\site-packages\\facebook\\__init__.py:313\u001b[0m, in \u001b[0;36mGraphAPI.request\u001b[1;34m(self, path, args, post_args, files, method)\u001b[0m\n\u001b[0;32m    <a href='file:///c%3A/Users/user/AppData/Local/Programs/Python/Python310/lib/site-packages/facebook/__init__.py?line=309'>310</a>\u001b[0m     \u001b[39mraise\u001b[39;00m GraphAPIError(\u001b[39m\"\u001b[39m\u001b[39mMaintype was not text, image, or querystring\u001b[39m\u001b[39m\"\u001b[39m)\n\u001b[0;32m    <a href='file:///c%3A/Users/user/AppData/Local/Programs/Python/Python310/lib/site-packages/facebook/__init__.py?line=311'>312</a>\u001b[0m \u001b[39mif\u001b[39;00m result \u001b[39mand\u001b[39;00m \u001b[39misinstance\u001b[39m(result, \u001b[39mdict\u001b[39m) \u001b[39mand\u001b[39;00m result\u001b[39m.\u001b[39mget(\u001b[39m\"\u001b[39m\u001b[39merror\u001b[39m\u001b[39m\"\u001b[39m):\n\u001b[1;32m--> <a href='file:///c%3A/Users/user/AppData/Local/Programs/Python/Python310/lib/site-packages/facebook/__init__.py?line=312'>313</a>\u001b[0m     \u001b[39mraise\u001b[39;00m GraphAPIError(result)\n\u001b[0;32m    <a href='file:///c%3A/Users/user/AppData/Local/Programs/Python/Python310/lib/site-packages/facebook/__init__.py?line=313'>314</a>\u001b[0m \u001b[39mreturn\u001b[39;00m result\n",
      "\u001b[1;31mGraphAPIError\u001b[0m: (#12) Place Search API is deprecated for third parties effective v8.0 is deprecated"
     ]
    }
   ],
   "source": [
    "places = graph.search(type='place',\n",
    "                      center='37.4845306,-122.1498183',\n",
    "                      fields='name,location')\n",
    "\n",
    "# Each given id maps to an object the contains the requested fields.\n",
    "for place in places['data']:\n",
    "    print('%s %s' % (place['name'].encode(),place['location'].get('zip')))"
   ]
  },
  {
   "cell_type": "code",
   "execution_count": 80,
   "metadata": {},
   "outputs": [
    {
     "ename": "GraphAPIError",
     "evalue": "(#10) This endpoint requires the 'pages_read_engagement' permission or the 'Page Public Content Access' feature. Refer to https://developers.facebook.com/docs/apps/review/login-permissions#manage-pages and https://developers.facebook.com/docs/apps/review/feature#reference-PAGES_ACCESS for details.",
     "output_type": "error",
     "traceback": [
      "\u001b[1;31m---------------------------------------------------------------------------\u001b[0m",
      "\u001b[1;31mGraphAPIError\u001b[0m                             Traceback (most recent call last)",
      "\u001b[1;32mc:\\Users\\user\\Desktop\\insta test\\facebooktest.ipynb Cell 7'\u001b[0m in \u001b[0;36m<cell line: 1>\u001b[1;34m()\u001b[0m\n\u001b[1;32m----> <a href='vscode-notebook-cell:/c%3A/Users/user/Desktop/insta%20test/facebooktest.ipynb#ch0000006?line=0'>1</a>\u001b[0m comments \u001b[39m=\u001b[39m graph\u001b[39m.\u001b[39;49mget_connections(\u001b[39mid\u001b[39;49m\u001b[39m=\u001b[39;49m\u001b[39m'\u001b[39;49m\u001b[39m651794712897523\u001b[39;49m\u001b[39m'\u001b[39;49m, connection_name\u001b[39m=\u001b[39;49m\u001b[39m'\u001b[39;49m\u001b[39mcomments\u001b[39;49m\u001b[39m'\u001b[39;49m)\n",
      "File \u001b[1;32m~\\AppData\\Local\\Programs\\Python\\Python310\\lib\\site-packages\\facebook\\__init__.py:149\u001b[0m, in \u001b[0;36mGraphAPI.get_connections\u001b[1;34m(self, id, connection_name, **args)\u001b[0m\n\u001b[0;32m    <a href='file:///c%3A/Users/user/AppData/Local/Programs/Python/Python310/lib/site-packages/facebook/__init__.py?line=146'>147</a>\u001b[0m \u001b[39mdef\u001b[39;00m \u001b[39mget_connections\u001b[39m(\u001b[39mself\u001b[39m, \u001b[39mid\u001b[39m, connection_name, \u001b[39m*\u001b[39m\u001b[39m*\u001b[39margs):\n\u001b[0;32m    <a href='file:///c%3A/Users/user/AppData/Local/Programs/Python/Python310/lib/site-packages/facebook/__init__.py?line=147'>148</a>\u001b[0m     \u001b[39m\"\"\"Fetches the connections for given object.\"\"\"\u001b[39;00m\n\u001b[1;32m--> <a href='file:///c%3A/Users/user/AppData/Local/Programs/Python/Python310/lib/site-packages/facebook/__init__.py?line=148'>149</a>\u001b[0m     \u001b[39mreturn\u001b[39;00m \u001b[39mself\u001b[39;49m\u001b[39m.\u001b[39;49mrequest(\n\u001b[0;32m    <a href='file:///c%3A/Users/user/AppData/Local/Programs/Python/Python310/lib/site-packages/facebook/__init__.py?line=149'>150</a>\u001b[0m         \u001b[39m\"\u001b[39;49m\u001b[39m{0}\u001b[39;49;00m\u001b[39m/\u001b[39;49m\u001b[39m{1}\u001b[39;49;00m\u001b[39m/\u001b[39;49m\u001b[39m{2}\u001b[39;49;00m\u001b[39m\"\u001b[39;49m\u001b[39m.\u001b[39;49mformat(\u001b[39mself\u001b[39;49m\u001b[39m.\u001b[39;49mversion, \u001b[39mid\u001b[39;49m, connection_name), args\n\u001b[0;32m    <a href='file:///c%3A/Users/user/AppData/Local/Programs/Python/Python310/lib/site-packages/facebook/__init__.py?line=150'>151</a>\u001b[0m     )\n",
      "File \u001b[1;32m~\\AppData\\Local\\Programs\\Python\\Python310\\lib\\site-packages\\facebook\\__init__.py:313\u001b[0m, in \u001b[0;36mGraphAPI.request\u001b[1;34m(self, path, args, post_args, files, method)\u001b[0m\n\u001b[0;32m    <a href='file:///c%3A/Users/user/AppData/Local/Programs/Python/Python310/lib/site-packages/facebook/__init__.py?line=309'>310</a>\u001b[0m     \u001b[39mraise\u001b[39;00m GraphAPIError(\u001b[39m\"\u001b[39m\u001b[39mMaintype was not text, image, or querystring\u001b[39m\u001b[39m\"\u001b[39m)\n\u001b[0;32m    <a href='file:///c%3A/Users/user/AppData/Local/Programs/Python/Python310/lib/site-packages/facebook/__init__.py?line=311'>312</a>\u001b[0m \u001b[39mif\u001b[39;00m result \u001b[39mand\u001b[39;00m \u001b[39misinstance\u001b[39m(result, \u001b[39mdict\u001b[39m) \u001b[39mand\u001b[39;00m result\u001b[39m.\u001b[39mget(\u001b[39m\"\u001b[39m\u001b[39merror\u001b[39m\u001b[39m\"\u001b[39m):\n\u001b[1;32m--> <a href='file:///c%3A/Users/user/AppData/Local/Programs/Python/Python310/lib/site-packages/facebook/__init__.py?line=312'>313</a>\u001b[0m     \u001b[39mraise\u001b[39;00m GraphAPIError(result)\n\u001b[0;32m    <a href='file:///c%3A/Users/user/AppData/Local/Programs/Python/Python310/lib/site-packages/facebook/__init__.py?line=313'>314</a>\u001b[0m \u001b[39mreturn\u001b[39;00m result\n",
      "\u001b[1;31mGraphAPIError\u001b[0m: (#10) This endpoint requires the 'pages_read_engagement' permission or the 'Page Public Content Access' feature. Refer to https://developers.facebook.com/docs/apps/review/login-permissions#manage-pages and https://developers.facebook.com/docs/apps/review/feature#reference-PAGES_ACCESS for details."
     ]
    }
   ],
   "source": [
    "comments = graph.get_connections(id='651794712897523', connection_name='comments')"
   ]
  },
  {
   "cell_type": "code",
   "execution_count": null,
   "metadata": {},
   "outputs": [],
   "source": []
  }
 ],
 "metadata": {
  "interpreter": {
   "hash": "5d240ba0dc525c389faa33f5dcce5b4f32b6d6aa6d70d6d2dd929bd2b09ab69f"
  },
  "kernelspec": {
   "display_name": "Python 3.10.2 64-bit",
   "language": "python",
   "name": "python3"
  },
  "language_info": {
   "codemirror_mode": {
    "name": "ipython",
    "version": 3
   },
   "file_extension": ".py",
   "mimetype": "text/x-python",
   "name": "python",
   "nbconvert_exporter": "python",
   "pygments_lexer": "ipython3",
   "version": "3.10.2"
  },
  "orig_nbformat": 4
 },
 "nbformat": 4,
 "nbformat_minor": 2
}
