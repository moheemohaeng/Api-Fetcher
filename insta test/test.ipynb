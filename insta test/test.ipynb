{
 "cells": [
  {
   "cell_type": "code",
   "execution_count": 5,
   "metadata": {},
   "outputs": [],
   "source": [
    "from instagrapi import Client\n",
    "import schedule\n",
    "import time\n",
    "import json\n",
    "from pymongo import MongoClient\n",
    "from pathlib import Path\n",
    "from requests import Session\n",
    "from bson import json_util\n",
    "import os"
   ]
  },
  {
   "cell_type": "code",
   "execution_count": 6,
   "metadata": {},
   "outputs": [],
   "source": [
    "host = '192.168.1.45'\n",
    "port = '25017'\n",
    "# host = 'local'\n",
    "# port = '27017'\n",
    "mongo = MongoClient(host, int(port))\n",
    "\n",
    "proxy_host = \"proxy.crawlera.com\"\n",
    "proxy_port = \"8011\"\n",
    "proxy_auth = \"7ccd51590e6c4f7c9841b646598dcc52:\"\n",
    "proxy_addr = f\"http://{proxy_auth}@{proxy_host}:{proxy_port}/\"\n",
    "crt_path = Path(\"zyte-smartproxy-ca.crt\")\n",
    "\n"
   ]
  },
  {
   "cell_type": "code",
   "execution_count": 23,
   "metadata": {},
   "outputs": [],
   "source": [
    "user_list = ['duckjungkimduckcentregim', 'watermin_jung', '99_99duck', 'jiji.0.ijij', 'eix__cosx_isinx', '13e_positive',\n",
    "    'okj_rlj', 'suu_out', 'soooojiinn', 'ds.wook', 'chae_cho', 'moassaang', 'im_winwater', 'da_lotus__', 'gini_._._', 'jo_o_han',\n",
    "    'yeongeunkim_', 'kkkkkkk__yu', 'hanbyeol_813', 'tthwaa', 'dearhee__', 'mxrninx', 'ss.miiin_', 'ryong_rr', 'hanbyol_sun', \n",
    "    'moong__zzi', 'jooseok.0527', 'aestas_na', 'narngreen' , 'kozzy_h', 'strongzero_kr', 'happihee']\n",
    "\n",
    "tag_list = ['조던', '성수카페', '군인', '병장', '의경', '의경스타그램', '고등학생', '기타', '유희열', '아이유',\n",
    "    '가요', '가요대축제', '가요대전', '방탄소년단', '방탄', '방탄진', '방탄지민', '대학로맛집', '대학', '대학로카페', '대학생', '대학로핫플',\n",
    "    '대학생코디', '대학로데이트', '데스노트', '뮤지컬', '여행', '여행사진', '여행스타그램', '여행에미치다', '여행중', '출근', '퇴근', '강남',\n",
    "    '건대', '건대맛집', '왕십리맛집', '강남맛집', '셀피', '홍대', '홍대사진', '홍대공연', '길거리공연', '코딩', '학원', '퇴사', '칼퇴', '제주도',\n",
    "    '비행기', '거북이', '강아지', '고양이', '강하늘', '강아지일상', '드라마', '영화', '마블']\n"
   ]
  },
  {
   "cell_type": "code",
   "execution_count": 24,
   "metadata": {},
   "outputs": [],
   "source": [
    "def comment_in_comments(comments, meta_path):\n",
    "    for comment in comments:\n",
    "        file_path = 'C:/Users/user/Desktop/insta test/data/'+comment.pk+'.json'\n",
    "        try:\n",
    "            comment_info = comment.dict()\n",
    "        except:\n",
    "            print('!!!!!!!!!!!!!!!!!!!!!!!!!fail read comment : ', comment.pk, '!!!!!!!!!!!!!!!!!!!!!!!!!!!!!!!!!!!!!!!!!!!!!!!!!!!')\n",
    "\n",
    "        print('-----------', comment.pk, ' : comment data on------------')\n",
    "\n",
    "        with open(file_path, 'w', encoding='UTF-8') as file:\n",
    "            json.dump(comment_info, file, default=json_util.default, indent=8, ensure_ascii=False)\n",
    "        \n",
    "        mongo[\"insta_test\"][\"comment\"].insert_one(comment_info).inserted_id"
   ]
  },
  {
   "cell_type": "code",
   "execution_count": 25,
   "metadata": {},
   "outputs": [],
   "source": [
    "def media_in_medias(medias):\n",
    "    for media in medias:\n",
    "        meta_path = 'C:/Users/user/Desktop/insta test/meta/'+media.id+'_meta.json'\n",
    "        print('<<< collecting media: ', media.title, ' >>>')\n",
    "        try:\n",
    "            meta = cl.media_info(media.id).dict()\n",
    "        except:\n",
    "            print('!!!!!!!!!!!!!!!!!!!!!!!!!fail read media : ', media.title, '!!!!!!!!!!!!!!!!!!!!!!!!!!!!!!!!!!!!!!!!!!!!!!!!!!!')\n",
    "        print('-----------', media.title, ' : meta data on------------')\n",
    "\n",
    "        with open(meta_path, 'w', encoding='UTF-8') as file:\n",
    "            json.dump(meta, file, default=json_util.default, indent=8, ensure_ascii=False)\n",
    "        mongo[\"insta_test\"][\"meta\"].insert_one(meta).inserted_id\n",
    "\n",
    "        comments = cl.media_comments(media_id=media.id, amount = 500)\n",
    "        comment_in_comments(comments, meta_path)"
   ]
  },
  {
   "cell_type": "code",
   "execution_count": 12,
   "metadata": {},
   "outputs": [],
   "source": [
    "os.mkdir('C:/Users/user/Desktop/insta test/meta')\n",
    "os.mkdir('C:/Users/user/Desktop/insta test/data')"
   ]
  },
  {
   "cell_type": "code",
   "execution_count": 34,
   "metadata": {},
   "outputs": [],
   "source": [
    "cl = Client(proxy=\"socks5h://127.0.0.1:9150\")\n",
    "# cl = Client()"
   ]
  },
  {
   "cell_type": "code",
   "execution_count": 36,
   "metadata": {},
   "outputs": [
    {
     "ename": "RateLimitError",
     "evalue": "Please wait a few minutes before you try again.",
     "output_type": "error",
     "traceback": [
      "\u001b[1;31m---------------------------------------------------------------------------\u001b[0m",
      "\u001b[1;31mHTTPError\u001b[0m                                 Traceback (most recent call last)",
      "File \u001b[1;32m~\\AppData\\Local\\Programs\\Python\\Python310\\lib\\site-packages\\instagrapi\\mixins\\private.py:298\u001b[0m, in \u001b[0;36mPrivateRequestMixin._send_private_request\u001b[1;34m(self, endpoint, data, params, login, with_signature, headers, extra_sig)\u001b[0m\n\u001b[0;32m    <a href='file:///c%3A/Users/user/AppData/Local/Programs/Python/Python310/lib/site-packages/instagrapi/mixins/private.py?line=296'>297</a>\u001b[0m \u001b[39mself\u001b[39m\u001b[39m.\u001b[39mlast_response \u001b[39m=\u001b[39m response\n\u001b[1;32m--> <a href='file:///c%3A/Users/user/AppData/Local/Programs/Python/Python310/lib/site-packages/instagrapi/mixins/private.py?line=297'>298</a>\u001b[0m response\u001b[39m.\u001b[39;49mraise_for_status()\n\u001b[0;32m    <a href='file:///c%3A/Users/user/AppData/Local/Programs/Python/Python310/lib/site-packages/instagrapi/mixins/private.py?line=298'>299</a>\u001b[0m \u001b[39m# last_json - for Sentry context in traceback\u001b[39;00m\n",
      "File \u001b[1;32m~\\AppData\\Local\\Programs\\Python\\Python310\\lib\\site-packages\\requests\\models.py:960\u001b[0m, in \u001b[0;36mResponse.raise_for_status\u001b[1;34m(self)\u001b[0m\n\u001b[0;32m    <a href='file:///c%3A/Users/user/AppData/Local/Programs/Python/Python310/lib/site-packages/requests/models.py?line=958'>959</a>\u001b[0m \u001b[39mif\u001b[39;00m http_error_msg:\n\u001b[1;32m--> <a href='file:///c%3A/Users/user/AppData/Local/Programs/Python/Python310/lib/site-packages/requests/models.py?line=959'>960</a>\u001b[0m     \u001b[39mraise\u001b[39;00m HTTPError(http_error_msg, response\u001b[39m=\u001b[39m\u001b[39mself\u001b[39m)\n",
      "\u001b[1;31mHTTPError\u001b[0m: 400 Client Error: Bad Request for url: https://i.instagram.com/api/v1/accounts/login/",
      "\nDuring handling of the above exception, another exception occurred:\n",
      "\u001b[1;31mRateLimitError\u001b[0m                            Traceback (most recent call last)",
      "\u001b[1;32mc:\\Users\\user\\Desktop\\insta test\\test.ipynb Cell 8'\u001b[0m in \u001b[0;36m<cell line: 1>\u001b[1;34m()\u001b[0m\n\u001b[1;32m----> <a href='vscode-notebook-cell:/c%3A/Users/user/Desktop/insta%20test/test.ipynb#ch0000009?line=0'>1</a>\u001b[0m cl\u001b[39m.\u001b[39;49mlogin(\u001b[39m'\u001b[39;49m\u001b[39mzofldjemforhs\u001b[39;49m\u001b[39m'\u001b[39;49m, \u001b[39m'\u001b[39;49m\u001b[39mher6792ya!\u001b[39;49m\u001b[39m'\u001b[39;49m)\n",
      "File \u001b[1;32m~\\AppData\\Local\\Programs\\Python\\Python310\\lib\\site-packages\\instagrapi\\mixins\\auth.py:391\u001b[0m, in \u001b[0;36mLoginMixin.login\u001b[1;34m(self, username, password, relogin, verification_code)\u001b[0m\n\u001b[0;32m    <a href='file:///c%3A/Users/user/AppData/Local/Programs/Python/Python310/lib/site-packages/instagrapi/mixins/auth.py?line=377'>378</a>\u001b[0m data \u001b[39m=\u001b[39m {\n\u001b[0;32m    <a href='file:///c%3A/Users/user/AppData/Local/Programs/Python/Python310/lib/site-packages/instagrapi/mixins/auth.py?line=378'>379</a>\u001b[0m     \u001b[39m\"\u001b[39m\u001b[39mjazoest\u001b[39m\u001b[39m\"\u001b[39m: generate_jazoest(\u001b[39mself\u001b[39m\u001b[39m.\u001b[39mphone_id),\n\u001b[0;32m    <a href='file:///c%3A/Users/user/AppData/Local/Programs/Python/Python310/lib/site-packages/instagrapi/mixins/auth.py?line=379'>380</a>\u001b[0m     \u001b[39m\"\u001b[39m\u001b[39mcountry_codes\u001b[39m\u001b[39m\"\u001b[39m: \u001b[39m\"\u001b[39m\u001b[39m[\u001b[39m\u001b[39m{\u001b[39m\u001b[39m\\\"\u001b[39;00m\u001b[39mcountry_code\u001b[39m\u001b[39m\\\"\u001b[39;00m\u001b[39m:\u001b[39m\u001b[39m\\\"\u001b[39;00m\u001b[39m%d\u001b[39;00m\u001b[39m\\\"\u001b[39;00m\u001b[39m,\u001b[39m\u001b[39m\\\"\u001b[39;00m\u001b[39msource\u001b[39m\u001b[39m\\\"\u001b[39;00m\u001b[39m:[\u001b[39m\u001b[39m\\\"\u001b[39;00m\u001b[39mdefault\u001b[39m\u001b[39m\\\"\u001b[39;00m\u001b[39m]}]\u001b[39m\u001b[39m\"\u001b[39m \u001b[39m%\u001b[39m \u001b[39mint\u001b[39m(\u001b[39mself\u001b[39m\u001b[39m.\u001b[39mcountry_code),\n\u001b[1;32m   (...)\u001b[0m\n\u001b[0;32m    <a href='file:///c%3A/Users/user/AppData/Local/Programs/Python/Python310/lib/site-packages/instagrapi/mixins/auth.py?line=387'>388</a>\u001b[0m     \u001b[39m\"\u001b[39m\u001b[39mlogin_attempt_count\u001b[39m\u001b[39m\"\u001b[39m: \u001b[39m\"\u001b[39m\u001b[39m0\u001b[39m\u001b[39m\"\u001b[39m\n\u001b[0;32m    <a href='file:///c%3A/Users/user/AppData/Local/Programs/Python/Python310/lib/site-packages/instagrapi/mixins/auth.py?line=388'>389</a>\u001b[0m }\n\u001b[0;32m    <a href='file:///c%3A/Users/user/AppData/Local/Programs/Python/Python310/lib/site-packages/instagrapi/mixins/auth.py?line=389'>390</a>\u001b[0m \u001b[39mtry\u001b[39;00m:\n\u001b[1;32m--> <a href='file:///c%3A/Users/user/AppData/Local/Programs/Python/Python310/lib/site-packages/instagrapi/mixins/auth.py?line=390'>391</a>\u001b[0m     logged \u001b[39m=\u001b[39m \u001b[39mself\u001b[39;49m\u001b[39m.\u001b[39;49mprivate_request(\u001b[39m\"\u001b[39;49m\u001b[39maccounts/login/\u001b[39;49m\u001b[39m\"\u001b[39;49m, data, login\u001b[39m=\u001b[39;49m\u001b[39mTrue\u001b[39;49;00m)\n\u001b[0;32m    <a href='file:///c%3A/Users/user/AppData/Local/Programs/Python/Python310/lib/site-packages/instagrapi/mixins/auth.py?line=391'>392</a>\u001b[0m     \u001b[39mself\u001b[39m\u001b[39m.\u001b[39mauthorization_data \u001b[39m=\u001b[39m \u001b[39mself\u001b[39m\u001b[39m.\u001b[39mparse_authorization(\n\u001b[0;32m    <a href='file:///c%3A/Users/user/AppData/Local/Programs/Python/Python310/lib/site-packages/instagrapi/mixins/auth.py?line=392'>393</a>\u001b[0m         \u001b[39mself\u001b[39m\u001b[39m.\u001b[39mlast_response\u001b[39m.\u001b[39mheaders\u001b[39m.\u001b[39mget(\u001b[39m'\u001b[39m\u001b[39mig-set-authorization\u001b[39m\u001b[39m'\u001b[39m)\n\u001b[0;32m    <a href='file:///c%3A/Users/user/AppData/Local/Programs/Python/Python310/lib/site-packages/instagrapi/mixins/auth.py?line=393'>394</a>\u001b[0m     )\n\u001b[0;32m    <a href='file:///c%3A/Users/user/AppData/Local/Programs/Python/Python310/lib/site-packages/instagrapi/mixins/auth.py?line=394'>395</a>\u001b[0m \u001b[39mexcept\u001b[39;00m TwoFactorRequired \u001b[39mas\u001b[39;00m e:\n",
      "File \u001b[1;32m~\\AppData\\Local\\Programs\\Python\\Python310\\lib\\site-packages\\instagrapi\\mixins\\private.py:445\u001b[0m, in \u001b[0;36mPrivateRequestMixin.private_request\u001b[1;34m(self, endpoint, data, params, login, with_signature, headers, extra_sig)\u001b[0m\n\u001b[0;32m    <a href='file:///c%3A/Users/user/AppData/Local/Programs/Python/Python310/lib/site-packages/instagrapi/mixins/private.py?line=442'>443</a>\u001b[0m     \u001b[39mself\u001b[39m\u001b[39m.\u001b[39mchallenge_resolve(\u001b[39mself\u001b[39m\u001b[39m.\u001b[39mlast_json)\n\u001b[0;32m    <a href='file:///c%3A/Users/user/AppData/Local/Programs/Python/Python310/lib/site-packages/instagrapi/mixins/private.py?line=443'>444</a>\u001b[0m \u001b[39melse\u001b[39;00m:\n\u001b[1;32m--> <a href='file:///c%3A/Users/user/AppData/Local/Programs/Python/Python310/lib/site-packages/instagrapi/mixins/private.py?line=444'>445</a>\u001b[0m     \u001b[39mraise\u001b[39;00m e\n\u001b[0;32m    <a href='file:///c%3A/Users/user/AppData/Local/Programs/Python/Python310/lib/site-packages/instagrapi/mixins/private.py?line=445'>446</a>\u001b[0m \u001b[39mif\u001b[39;00m login \u001b[39mand\u001b[39;00m \u001b[39mself\u001b[39m\u001b[39m.\u001b[39muser_id:\n\u001b[0;32m    <a href='file:///c%3A/Users/user/AppData/Local/Programs/Python/Python310/lib/site-packages/instagrapi/mixins/private.py?line=446'>447</a>\u001b[0m     \u001b[39m# After challenge resolve return last_json\u001b[39;00m\n\u001b[0;32m    <a href='file:///c%3A/Users/user/AppData/Local/Programs/Python/Python310/lib/site-packages/instagrapi/mixins/private.py?line=447'>448</a>\u001b[0m     \u001b[39mreturn\u001b[39;00m \u001b[39mself\u001b[39m\u001b[39m.\u001b[39mlast_json\n",
      "File \u001b[1;32m~\\AppData\\Local\\Programs\\Python\\Python310\\lib\\site-packages\\instagrapi\\mixins\\private.py:432\u001b[0m, in \u001b[0;36mPrivateRequestMixin.private_request\u001b[1;34m(self, endpoint, data, params, login, with_signature, headers, extra_sig)\u001b[0m\n\u001b[0;32m    <a href='file:///c%3A/Users/user/AppData/Local/Programs/Python/Python310/lib/site-packages/instagrapi/mixins/private.py?line=429'>430</a>\u001b[0m \u001b[39mtry\u001b[39;00m:\n\u001b[0;32m    <a href='file:///c%3A/Users/user/AppData/Local/Programs/Python/Python310/lib/site-packages/instagrapi/mixins/private.py?line=430'>431</a>\u001b[0m     \u001b[39mself\u001b[39m\u001b[39m.\u001b[39mprivate_requests_count \u001b[39m+\u001b[39m\u001b[39m=\u001b[39m \u001b[39m1\u001b[39m\n\u001b[1;32m--> <a href='file:///c%3A/Users/user/AppData/Local/Programs/Python/Python310/lib/site-packages/instagrapi/mixins/private.py?line=431'>432</a>\u001b[0m     \u001b[39mself\u001b[39m\u001b[39m.\u001b[39m_send_private_request(endpoint, \u001b[39m*\u001b[39m\u001b[39m*\u001b[39mkwargs)\n\u001b[0;32m    <a href='file:///c%3A/Users/user/AppData/Local/Programs/Python/Python310/lib/site-packages/instagrapi/mixins/private.py?line=432'>433</a>\u001b[0m \u001b[39mexcept\u001b[39;00m ClientRequestTimeout:\n\u001b[0;32m    <a href='file:///c%3A/Users/user/AppData/Local/Programs/Python/Python310/lib/site-packages/instagrapi/mixins/private.py?line=433'>434</a>\u001b[0m     \u001b[39mself\u001b[39m\u001b[39m.\u001b[39mlogger\u001b[39m.\u001b[39minfo(\u001b[39m'\u001b[39m\u001b[39mWait 60 seconds and try one more time (ClientRequestTimeout)\u001b[39m\u001b[39m'\u001b[39m)\n",
      "File \u001b[1;32m~\\AppData\\Local\\Programs\\Python\\Python310\\lib\\site-packages\\instagrapi\\mixins\\private.py:342\u001b[0m, in \u001b[0;36mPrivateRequestMixin._send_private_request\u001b[1;34m(self, endpoint, data, params, login, with_signature, headers, extra_sig)\u001b[0m\n\u001b[0;32m    <a href='file:///c%3A/Users/user/AppData/Local/Programs/Python/Python310/lib/site-packages/instagrapi/mixins/private.py?line=339'>340</a>\u001b[0m     \u001b[39mraise\u001b[39;00m SentryBlock(\u001b[39m*\u001b[39m\u001b[39m*\u001b[39mlast_json)\n\u001b[0;32m    <a href='file:///c%3A/Users/user/AppData/Local/Programs/Python/Python310/lib/site-packages/instagrapi/mixins/private.py?line=340'>341</a>\u001b[0m \u001b[39melif\u001b[39;00m error_type \u001b[39m==\u001b[39m \u001b[39m\"\u001b[39m\u001b[39mrate_limit_error\u001b[39m\u001b[39m\"\u001b[39m:\n\u001b[1;32m--> <a href='file:///c%3A/Users/user/AppData/Local/Programs/Python/Python310/lib/site-packages/instagrapi/mixins/private.py?line=341'>342</a>\u001b[0m     \u001b[39mraise\u001b[39;00m RateLimitError(\u001b[39m*\u001b[39m\u001b[39m*\u001b[39mlast_json)\n\u001b[0;32m    <a href='file:///c%3A/Users/user/AppData/Local/Programs/Python/Python310/lib/site-packages/instagrapi/mixins/private.py?line=342'>343</a>\u001b[0m \u001b[39melif\u001b[39;00m error_type \u001b[39m==\u001b[39m \u001b[39m\"\u001b[39m\u001b[39mbad_password\u001b[39m\u001b[39m\"\u001b[39m:\n\u001b[0;32m    <a href='file:///c%3A/Users/user/AppData/Local/Programs/Python/Python310/lib/site-packages/instagrapi/mixins/private.py?line=343'>344</a>\u001b[0m     \u001b[39mraise\u001b[39;00m BadPassword(\u001b[39m*\u001b[39m\u001b[39m*\u001b[39mlast_json)\n",
      "\u001b[1;31mRateLimitError\u001b[0m: Please wait a few minutes before you try again."
     ]
    }
   ],
   "source": [
    "cl.login('zofldjemforhs', 'her6792ya!')"
   ]
  },
  {
   "cell_type": "code",
   "execution_count": null,
   "metadata": {},
   "outputs": [],
   "source": [
    "medias = cl.hashtag_medias_top('의경', amount = 1)\n",
    "media_in_medias(medias)\n",
    "medias = cl.hashtag_medias_top('남산', amount = 1)\n",
    "media_in_medias(medias)"
   ]
  }
 ],
 "metadata": {
  "interpreter": {
   "hash": "5d240ba0dc525c389faa33f5dcce5b4f32b6d6aa6d70d6d2dd929bd2b09ab69f"
  },
  "kernelspec": {
   "display_name": "Python 3.10.2 64-bit",
   "language": "python",
   "name": "python3"
  },
  "language_info": {
   "codemirror_mode": {
    "name": "ipython",
    "version": 3
   },
   "file_extension": ".py",
   "mimetype": "text/x-python",
   "name": "python",
   "nbconvert_exporter": "python",
   "pygments_lexer": "ipython3",
   "version": "3.10.2"
  },
  "orig_nbformat": 4
 },
 "nbformat": 4,
 "nbformat_minor": 2
}
